{
 "cells": [
  {
   "cell_type": "markdown",
   "id": "b2ab2db3-2611-473b-882f-4dc1728c7b13",
   "metadata": {},
   "source": [
    "# GG3209 Assignment 2 - Magnus Burnet\n",
    "### Student ID: 190011602\n",
    "### GITHub Repository: https://github.com/MagnusBurnet/PY4SA23_Assignment"
   ]
  },
  {
   "cell_type": "markdown",
   "id": "d1f6edc4-e3fe-4cc6-bca0-9e6119b11455",
   "metadata": {},
   "source": [
    "#### Task 1: Create an If...Else statement that will test whether a number is divisible by three. \"YOUR VALUE is divisible by 3\" should be printed if the value is divisible by three. \"YOUR VALUE is not divisible by three\" should be printed if it is not divisible by three. Test the statement on a numeric variable. Upper case text in the print statement should be replaced with the tested number."
   ]
  },
  {
   "cell_type": "code",
   "execution_count": 10,
   "id": "50d1747f-6343-42ec-849d-e7a1cf7081a4",
   "metadata": {},
   "outputs": [
    {
     "name": "stdin",
     "output_type": "stream",
     "text": [
      "Enter the number you want to check is divisible by 3:  45678\n"
     ]
    },
    {
     "name": "stdout",
     "output_type": "stream",
     "text": [
      "45678 is divisible by three\n"
     ]
    }
   ],
   "source": [
    "num = int(input(\"Enter the number you want to check is divisible by 3: \"))\n",
    "\n",
    "if num%3 == 0:\n",
    "    print(num,\"is divisible by three\")\n",
    "    \n",
    "else:\n",
    "    print(num,\"is not divisible by three\")"
   ]
  },
  {
   "cell_type": "markdown",
   "id": "3c530099-bb0c-4903-8176-785ed1365b63",
   "metadata": {},
   "source": [
    "#### T2: Create an If...Else statement that will test whether a type of fruit, represented as a text string, is in a list of acceptable fruits (apple, orange, pear, kiwi, or strawberry). If the fruit is on the list, the following should be printed: \"YOUR FRUIT is acceptable.\" If not, then the following should be printed: \"YOUR FRUIT is not acceptable.\" Upper case text in the print statement should be replaced with the tested fruit."
   ]
  },
  {
   "cell_type": "code",
   "execution_count": 23,
   "id": "4813e52b-2bf8-48c3-9b23-7765fb559273",
   "metadata": {},
   "outputs": [
    {
     "name": "stdin",
     "output_type": "stream",
     "text": [
      "Enter the fruit you want to check:  tangerine\n"
     ]
    },
    {
     "name": "stdout",
     "output_type": "stream",
     "text": [
      "tangerine is not accepable\n"
     ]
    }
   ],
   "source": [
    "fruitlist = [\"apple\", \"orange\", \"pear\", \"kiwi\", \"strawberry\"]\n",
    "\n",
    "fruit = str(input(\"Enter the fruit you want to check: \"))\n",
    "\n",
    "if fruit in fruitlist:\n",
    "            print(fruit, \"is acceptable\")\n",
    "\n",
    "else:\n",
    "            print(fruit, \"is not accepable\")\n"
   ]
  },
  {
   "cell_type": "markdown",
   "id": "e0eb5d8f-effa-4ba9-8397-6554c967526b",
   "metadata": {},
   "source": [
    "#### T3: Create a function to calculate the distance between two coordinates using the haversine formula. Write the following formula where the input parameters are a pair of coordinates as two lists."
   ]
  },
  {
   "cell_type": "code",
   "execution_count": 27,
   "id": "3a6fcbd2-85c3-4ad8-a1a9-3cbc6e3862d8",
   "metadata": {},
   "outputs": [
    {
     "name": "stdin",
     "output_type": "stream",
     "text": [
      "Please enter the latitude your first coordinate:  53.32055555555556\n",
      "Please enter the longitude of your first coordinate:  -1.7297222222222221\n",
      "Please enter the latitude of your second coordinate:  53.31861111111111\n",
      "Please enter the longitude of your second coordinate:  -1.6997222222222223\n"
     ]
    },
    {
     "ename": "ValueError",
     "evalue": "math domain error",
     "output_type": "error",
     "traceback": [
      "\u001b[0;31m---------------------------------------------------------------------------\u001b[0m",
      "\u001b[0;31mValueError\u001b[0m                                Traceback (most recent call last)",
      "Cell \u001b[0;32mIn[27], line 20\u001b[0m\n\u001b[1;32m     18\u001b[0m \u001b[38;5;66;03m#haversine formula\u001b[39;00m\n\u001b[1;32m     19\u001b[0m a \u001b[38;5;241m=\u001b[39m sin(lat1\u001b[38;5;241m-\u001b[39mlat2\u001b[38;5;241m/\u001b[39m\u001b[38;5;241m2\u001b[39m)\u001b[38;5;241m*\u001b[39m\u001b[38;5;241m*\u001b[39m\u001b[38;5;241m2\u001b[39m \u001b[38;5;241m+\u001b[39m cos(lat1) \u001b[38;5;241m*\u001b[39m cos(lat2) \u001b[38;5;241m*\u001b[39m sin(long1\u001b[38;5;241m-\u001b[39mlong2\u001b[38;5;241m/\u001b[39m\u001b[38;5;241m2\u001b[39m)\u001b[38;5;241m*\u001b[39m\u001b[38;5;241m*\u001b[39m\u001b[38;5;241m2\u001b[39m\n\u001b[0;32m---> 20\u001b[0m c \u001b[38;5;241m=\u001b[39m \u001b[38;5;241m2\u001b[39m \u001b[38;5;241m*\u001b[39m atan2(sqrt(a), \u001b[43msqrt\u001b[49m\u001b[43m(\u001b[49m\u001b[38;5;241;43m1\u001b[39;49m\u001b[38;5;241;43m-\u001b[39;49m\u001b[43ma\u001b[49m\u001b[43m)\u001b[49m)\n\u001b[1;32m     21\u001b[0m d \u001b[38;5;241m=\u001b[39m \u001b[38;5;241m6371\u001b[39m \u001b[38;5;241m*\u001b[39m c\n\u001b[1;32m     23\u001b[0m \u001b[38;5;28mprint\u001b[39m(\u001b[38;5;124m\"\u001b[39m\u001b[38;5;124mThe distance between your coordinates is: \u001b[39m\u001b[38;5;124m\"\u001b[39m, d,\u001b[38;5;124m\"\u001b[39m\u001b[38;5;124mkm\u001b[39m\u001b[38;5;124m\"\u001b[39m)\n",
      "\u001b[0;31mValueError\u001b[0m: math domain error"
     ]
    }
   ],
   "source": [
    "Coordinate1 = []\n",
    "Coordinate2 = []\n",
    "\n",
    "#Input for coordinate1\n",
    "lat1 = float(input(\"Please enter the latitude your first coordinate: \"))\n",
    "long1 = float(input(\"Please enter the longitude of your first coordinate: \"))\n",
    "\n",
    "Coordinate1[1:2] = [lat1, long1]\n",
    "\n",
    "#Input for coordinate2\n",
    "lat2 = float(input(\"Please enter the latitude of your second coordinate: \"))\n",
    "long2 = float(input(\"Please enter the longitude of your second coordinate: \"))\n",
    "\n",
    "Coordinate2[1:2] = [lat2, long2]\n",
    "\n",
    "from math import *\n",
    "\n",
    "#haversine formula\n",
    "a = sin(lat1-lat2/2)**2 + cos(lat1) * cos(lat2) * sin(long1-long2/2)**2\n",
    "c = 2 * atan2(sqrt(a), sqrt(1-a))\n",
    "d = 6371 * c\n",
    "\n",
    "print(\"The distance between your coordinates is: \", d,\"km\")\n"
   ]
  },
  {
   "cell_type": "code",
   "execution_count": null,
   "id": "f8dfe10a-966d-4374-b9ac-9acfeda2c1c9",
   "metadata": {},
   "outputs": [],
   "source": []
  }
 ],
 "metadata": {
  "kernelspec": {
   "display_name": "Python 3 (ipykernel)",
   "language": "python",
   "name": "python3"
  },
  "language_info": {
   "codemirror_mode": {
    "name": "ipython",
    "version": 3
   },
   "file_extension": ".py",
   "mimetype": "text/x-python",
   "name": "python",
   "nbconvert_exporter": "python",
   "pygments_lexer": "ipython3",
   "version": "3.10.9"
  }
 },
 "nbformat": 4,
 "nbformat_minor": 5
}
