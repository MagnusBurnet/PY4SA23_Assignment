{
 "cells": [
  {
   "cell_type": "markdown",
   "id": "b2ab2db3-2611-473b-882f-4dc1728c7b13",
   "metadata": {},
   "source": [
    "# GG3209 Assignment 2 - Magnus Burnet\n",
    "### Student ID: 190011602\n",
    "### GITHub Repository: https://github.com/MagnusBurnet/PY4SA23_Assignment"
   ]
  },
  {
   "cell_type": "markdown",
   "id": "d1f6edc4-e3fe-4cc6-bca0-9e6119b11455",
   "metadata": {},
   "source": [
    "#### Task 1: Create an If...Else statement that will test whether a number is divisible by three. \"YOUR VALUE is divisible by 3\" should be printed if the value is divisible by three. \"YOUR VALUE is not divisible by three\" should be printed if it is not divisible by three. Test the statement on a numeric variable. Upper case text in the print statement should be replaced with the tested number."
   ]
  },
  {
   "cell_type": "code",
   "execution_count": 10,
   "id": "50d1747f-6343-42ec-849d-e7a1cf7081a4",
   "metadata": {},
   "outputs": [
    {
     "name": "stdin",
     "output_type": "stream",
     "text": [
      "Enter the number you want to check is divisible by 3:  45678\n"
     ]
    },
    {
     "name": "stdout",
     "output_type": "stream",
     "text": [
      "45678 is divisible by three\n"
     ]
    }
   ],
   "source": [
    "num = int(input(\"Enter the number you want to check is divisible by 3: \"))\n",
    "\n",
    "if num%3 == 0:\n",
    "    print(num,\"is divisible by three\")\n",
    "    \n",
    "else:\n",
    "    print(num,\"is not divisible by three\")"
   ]
  },
  {
   "cell_type": "markdown",
   "id": "3c530099-bb0c-4903-8176-785ed1365b63",
   "metadata": {},
   "source": [
    "#### T2: Create an If...Else statement that will test whether a type of fruit, represented as a text string, is in a list of acceptable fruits (apple, orange, pear, kiwi, or strawberry). If the fruit is on the list, the following should be printed: \"YOUR FRUIT is acceptable.\" If not, then the following should be printed: \"YOUR FRUIT is not acceptable.\" Upper case text in the print statement should be replaced with the tested fruit."
   ]
  },
  {
   "cell_type": "code",
   "execution_count": 23,
   "id": "4813e52b-2bf8-48c3-9b23-7765fb559273",
   "metadata": {},
   "outputs": [
    {
     "name": "stdin",
     "output_type": "stream",
     "text": [
      "Enter the fruit you want to check:  tangerine\n"
     ]
    },
    {
     "name": "stdout",
     "output_type": "stream",
     "text": [
      "tangerine is not accepable\n"
     ]
    }
   ],
   "source": [
    "fruitlist = [\"apple\", \"orange\", \"pear\", \"kiwi\", \"strawberry\"]\n",
    "\n",
    "fruit = str(input(\"Enter the fruit you want to check: \"))\n",
    "\n",
    "if fruit in fruitlist:\n",
    "            print(fruit, \"is acceptable\")\n",
    "\n",
    "else:\n",
    "            print(fruit, \"is not accepable\")\n"
   ]
  },
  {
   "cell_type": "markdown",
   "id": "e0eb5d8f-effa-4ba9-8397-6554c967526b",
   "metadata": {},
   "source": [
    "#### T3: Create a function to calculate the distance between two coordinates using the haversine formula. Write the following formula where the input parameters are a pair of coordinates as two lists."
   ]
  },
  {
   "cell_type": "code",
   "execution_count": 5,
   "id": "3a6fcbd2-85c3-4ad8-a1a9-3cbc6e3862d8",
   "metadata": {},
   "outputs": [
    {
     "name": "stdin",
     "output_type": "stream",
     "text": [
      "Enter the latitude and longitude of the first location, separated by a comma:  100, 100\n",
      "Enter the latitude and longitude of the second location, separated by a comma:  100, 100\n"
     ]
    },
    {
     "name": "stdout",
     "output_type": "stream",
     "text": [
      "The distance between your coordinates is:  0.0 km\n"
     ]
    }
   ],
   "source": [
    "import numpy as np\n",
    "\n",
    "from math import *\n",
    "\n",
    "\n",
    "#Input for coordinate1\n",
    "coordinate1 = [float(x) for x in input(\"Enter the latitude and longitude of the first location, separated by a comma: \").split(\",\")]\n",
    "lat1, long1 = coordinate1[0], coordinate1[1]\n",
    "\n",
    "\n",
    "#Input for coordinate2\n",
    "coordinate2 = [float(x) for x in input(\"Enter the latitude and longitude of the second location, separated by a comma: \").split(\",\")]\n",
    "lat2, long2 = coordinate2[0], coordinate2[1]\n",
    "\n",
    "\n",
    "#convert to radians\n",
    "lat1, long1, lat2, long2 = np.radians([lat1, long1, lat2, long2])\n",
    "\n",
    "#haversine formula\n",
    "a = sin((lat2-lat1)/2)**2 + cos(lat1) * cos(lat2) * sin((long2-long1)/2)**2\n",
    "c = 2 * atan2(sqrt(a), sqrt(1-a))\n",
    "d = 6371 * c\n",
    "\n",
    "print(\"The distance between your coordinates is:\", d,\"km\")\n"
   ]
  },
  {
   "cell_type": "code",
   "execution_count": 35,
   "id": "e963253e-4ae1-4157-ba68-09c830b368cf",
   "metadata": {},
   "outputs": [],
   "source": [
    "import numpy as np\n",
    "import pandas as pd\n",
    "import matplotlib.pyplot as plt\n",
    "%matplotlib inline\n",
    "plt.rcParams['figure.figsize'] = [10, 8]\n",
    "\n",
    "ppt = pd.read_csv(\"portland_park_trees.csv\", header=0)\n",
    "ppt.columns =[column.replace(\" \", \"_\") for column in ppt.columns]\n",
    "\n",
    "ppt.set_index('OBJECTID', inplace=True)\n",
    "\n",
    "ppt.to_csv(\"modified_portland_park_trees.csv\")\n",
    "\n",
    "ppt = pd.read_csv(\"modified_portland_park_trees.csv\", index_col='OBJECTID')\n"
   ]
  },
  {
   "cell_type": "markdown",
   "id": "17083cdb-e1b7-4d88-bc60-3f1f17666bac",
   "metadata": {},
   "source": [
    "### Numpy and Panda \n",
    "#### Question 1: How many trees are of the Quercus or Acer genus?"
   ]
  },
  {
   "cell_type": "code",
   "execution_count": 36,
   "id": "8f446c5d-f677-403b-94ec-ada63710587c",
   "metadata": {},
   "outputs": [
    {
     "name": "stdout",
     "output_type": "stream",
     "text": [
      "There are 3586 trees with the Acer Genus and 2089 trees with the Quercus genus\n"
     ]
    }
   ],
   "source": [
    "import numpy as np\n",
    "\n",
    "Acer = 'Acer'\n",
    "mask = ppt.values == Acer\n",
    "Acer_count = np.count_nonzero(mask)\n",
    "\n",
    "Quercus = 'Quercus'\n",
    "mask = ppt.values == Quercus\n",
    "Quercus_count = np.count_nonzero(mask)\n",
    "\n",
    "print(\"There are\",Acer_count, \"trees with the Acer Genus and\",Quercus_count, \"trees with the Quercus genus\")"
   ]
  },
  {
   "cell_type": "markdown",
   "id": "1ea2b35e-e1a8-4f23-8248-88811ab65621",
   "metadata": {},
   "source": [
    "#### Q2: How many trees are of the Quercus or Acer genus and have a DBH larger than 50 inches?"
   ]
  },
  {
   "cell_type": "code",
   "execution_count": 67,
   "id": "e4aff9a6-9cca-4d95-85ae-ef59bd8ed714",
   "metadata": {},
   "outputs": [
    {
     "name": "stdout",
     "output_type": "stream",
     "text": [
      "there are 124 of the Quercus and Acer genuses with a DBH higher than 50 inches\n"
     ]
    }
   ],
   "source": [
    "Genus_list = ['Quercus', 'Acer']\n",
    "df1 = ppt.loc[(ppt['Genus'].isin(Genus_list)) & (ppt['DBH'] > 50), :]\n",
    "\n",
    "num_trees = df1.shape[0]\n",
    "\n",
    "print(\"There are\", num_trees, \"of the Quercus and Acer genuses with a DBH larger than 50 inches\")"
   ]
  },
  {
   "cell_type": "markdown",
   "id": "a0c5ba44-9e09-435a-b44a-5620bd475428",
   "metadata": {},
   "source": [
    "#### Q3: Which genus has the highest mean DBH of the following genera: Quercus, Acer, or Fraxinus?"
   ]
  },
  {
   "cell_type": "code",
   "execution_count": null,
   "id": "8c670631-62e0-4d02-acab-ebbdf2ced4a0",
   "metadata": {},
   "outputs": [],
   "source": [
    "\n",
    "DBH_list = ['Quercus', 'Acer', 'Fraxinus']\n",
    "\n",
    "df2 = ppt.loc[ppt['Genus'].isin(DBH_list), :]\n",
    "\n",
    "genus_means = df2.groupby('Genus')['DBH'].mean()\n",
    "\n",
    "highest_mean = genus_means.idxmax()\n",
    "\n",
    "print(\"The genus with the highest mean DBH is\", highest_mean)\n"
   ]
  },
  {
   "cell_type": "markdown",
   "id": "412c7bcc-bd97-493c-b7bb-a8a2b3788f35",
   "metadata": {},
   "source": [
    "#### Q4: How many different species of trees are recorded in the Acer genus?"
   ]
  },
  {
   "cell_type": "code",
   "execution_count": 71,
   "id": "0213669d-e2b3-4616-a279-48cc2223a1a3",
   "metadata": {},
   "outputs": [
    {
     "name": "stdout",
     "output_type": "stream",
     "text": [
      "There are 20 of species in the Acer genus\n"
     ]
    }
   ],
   "source": [
    "df3 = ppt.loc[ppt['Genus'] == 'Acer', :]\n",
    "Num_Species = len(df3['Species'].unique())\n",
    "\n",
    "print(\"There are\", Num_Species, \"of species in the Acer genus\")\n"
   ]
  },
  {
   "cell_type": "markdown",
   "id": "f599d71d-9f95-4d82-964f-40eac4c8826f",
   "metadata": {},
   "source": [
    "#### Q5:\n",
    "#### • Calculate a new column named \"pop_M\" (population in millions), by transforming the \"pop\" (population) column.\n",
    "#### • Remove the original \"pop\" column.\n",
    "#### • Choose/subset a city that starts with the same letter as your first name (for example,\n",
    "#### \"Mexico City\" if your first name is Michael).\n",
    "#### • Subset the five biggest (i.e., largest population sizes) cities from the country where your\n",
    "#### selected city is.\n",
    "#### • Print the result.\n",
    "#### • Make sure you write the scripts in different code cells where you describe the process."
   ]
  },
  {
   "cell_type": "code",
   "execution_count": 85,
   "id": "f3b8b1f1-a088-41e6-9ecd-1f7b1f7f3832",
   "metadata": {},
   "outputs": [],
   "source": [
    "#import world_cities as wc\n",
    "wc = pd.read_csv(\"world_cities.csv\", header=0)\n",
    "wc.columns =[column.replace(\" \", \"_\") for column in wc.columns]\n",
    "wc.tail\n",
    "\n",
    "#calculate new column of population in millions\n",
    "\n",
    "wc['pop_M'] = wc['pop']/1000000\n",
    "\n"
   ]
  },
  {
   "cell_type": "code",
   "execution_count": 86,
   "id": "3fac0653-baff-41eb-9103-a3749f42e83d",
   "metadata": {},
   "outputs": [
    {
     "ename": "KeyError",
     "evalue": "\"['pop'] not found in axis\"",
     "output_type": "error",
     "traceback": [
      "\u001b[0;31m---------------------------------------------------------------------------\u001b[0m",
      "\u001b[0;31mKeyError\u001b[0m                                  Traceback (most recent call last)",
      "Cell \u001b[0;32mIn[86], line 3\u001b[0m\n\u001b[1;32m      1\u001b[0m \u001b[38;5;66;03m#reomoving the original \"pop\" column\u001b[39;00m\n\u001b[0;32m----> 3\u001b[0m wc \u001b[38;5;241m=\u001b[39m \u001b[43mwc\u001b[49m\u001b[38;5;241;43m.\u001b[39;49m\u001b[43mdrop\u001b[49m\u001b[43m(\u001b[49m\u001b[38;5;124;43m'\u001b[39;49m\u001b[38;5;124;43mpop\u001b[39;49m\u001b[38;5;124;43m'\u001b[39;49m\u001b[43m,\u001b[49m\u001b[43m \u001b[49m\u001b[43maxis\u001b[49m\u001b[38;5;241;43m=\u001b[39;49m\u001b[38;5;241;43m0\u001b[39;49m\u001b[43m)\u001b[49m\n\u001b[1;32m      4\u001b[0m wc\u001b[38;5;241m.\u001b[39mhead\n",
      "File \u001b[0;32m~/miniconda3/envs/py4sa/lib/python3.10/site-packages/pandas/util/_decorators.py:331\u001b[0m, in \u001b[0;36mdeprecate_nonkeyword_arguments.<locals>.decorate.<locals>.wrapper\u001b[0;34m(*args, **kwargs)\u001b[0m\n\u001b[1;32m    325\u001b[0m \u001b[38;5;28;01mif\u001b[39;00m \u001b[38;5;28mlen\u001b[39m(args) \u001b[38;5;241m>\u001b[39m num_allow_args:\n\u001b[1;32m    326\u001b[0m     warnings\u001b[38;5;241m.\u001b[39mwarn(\n\u001b[1;32m    327\u001b[0m         msg\u001b[38;5;241m.\u001b[39mformat(arguments\u001b[38;5;241m=\u001b[39m_format_argument_list(allow_args)),\n\u001b[1;32m    328\u001b[0m         \u001b[38;5;167;01mFutureWarning\u001b[39;00m,\n\u001b[1;32m    329\u001b[0m         stacklevel\u001b[38;5;241m=\u001b[39mfind_stack_level(),\n\u001b[1;32m    330\u001b[0m     )\n\u001b[0;32m--> 331\u001b[0m \u001b[38;5;28;01mreturn\u001b[39;00m \u001b[43mfunc\u001b[49m\u001b[43m(\u001b[49m\u001b[38;5;241;43m*\u001b[39;49m\u001b[43margs\u001b[49m\u001b[43m,\u001b[49m\u001b[43m \u001b[49m\u001b[38;5;241;43m*\u001b[39;49m\u001b[38;5;241;43m*\u001b[39;49m\u001b[43mkwargs\u001b[49m\u001b[43m)\u001b[49m\n",
      "File \u001b[0;32m~/miniconda3/envs/py4sa/lib/python3.10/site-packages/pandas/core/frame.py:5399\u001b[0m, in \u001b[0;36mDataFrame.drop\u001b[0;34m(self, labels, axis, index, columns, level, inplace, errors)\u001b[0m\n\u001b[1;32m   5251\u001b[0m \u001b[38;5;129m@deprecate_nonkeyword_arguments\u001b[39m(version\u001b[38;5;241m=\u001b[39m\u001b[38;5;28;01mNone\u001b[39;00m, allowed_args\u001b[38;5;241m=\u001b[39m[\u001b[38;5;124m\"\u001b[39m\u001b[38;5;124mself\u001b[39m\u001b[38;5;124m\"\u001b[39m, \u001b[38;5;124m\"\u001b[39m\u001b[38;5;124mlabels\u001b[39m\u001b[38;5;124m\"\u001b[39m])\n\u001b[1;32m   5252\u001b[0m \u001b[38;5;28;01mdef\u001b[39;00m \u001b[38;5;21mdrop\u001b[39m(  \u001b[38;5;66;03m# type: ignore[override]\u001b[39;00m\n\u001b[1;32m   5253\u001b[0m     \u001b[38;5;28mself\u001b[39m,\n\u001b[0;32m   (...)\u001b[0m\n\u001b[1;32m   5260\u001b[0m     errors: IgnoreRaise \u001b[38;5;241m=\u001b[39m \u001b[38;5;124m\"\u001b[39m\u001b[38;5;124mraise\u001b[39m\u001b[38;5;124m\"\u001b[39m,\n\u001b[1;32m   5261\u001b[0m ) \u001b[38;5;241m-\u001b[39m\u001b[38;5;241m>\u001b[39m DataFrame \u001b[38;5;241m|\u001b[39m \u001b[38;5;28;01mNone\u001b[39;00m:\n\u001b[1;32m   5262\u001b[0m \u001b[38;5;250m    \u001b[39m\u001b[38;5;124;03m\"\"\"\u001b[39;00m\n\u001b[1;32m   5263\u001b[0m \u001b[38;5;124;03m    Drop specified labels from rows or columns.\u001b[39;00m\n\u001b[1;32m   5264\u001b[0m \n\u001b[0;32m   (...)\u001b[0m\n\u001b[1;32m   5397\u001b[0m \u001b[38;5;124;03m            weight  1.0     0.8\u001b[39;00m\n\u001b[1;32m   5398\u001b[0m \u001b[38;5;124;03m    \"\"\"\u001b[39;00m\n\u001b[0;32m-> 5399\u001b[0m     \u001b[38;5;28;01mreturn\u001b[39;00m \u001b[38;5;28;43msuper\u001b[39;49m\u001b[43m(\u001b[49m\u001b[43m)\u001b[49m\u001b[38;5;241;43m.\u001b[39;49m\u001b[43mdrop\u001b[49m\u001b[43m(\u001b[49m\n\u001b[1;32m   5400\u001b[0m \u001b[43m        \u001b[49m\u001b[43mlabels\u001b[49m\u001b[38;5;241;43m=\u001b[39;49m\u001b[43mlabels\u001b[49m\u001b[43m,\u001b[49m\n\u001b[1;32m   5401\u001b[0m \u001b[43m        \u001b[49m\u001b[43maxis\u001b[49m\u001b[38;5;241;43m=\u001b[39;49m\u001b[43maxis\u001b[49m\u001b[43m,\u001b[49m\n\u001b[1;32m   5402\u001b[0m \u001b[43m        \u001b[49m\u001b[43mindex\u001b[49m\u001b[38;5;241;43m=\u001b[39;49m\u001b[43mindex\u001b[49m\u001b[43m,\u001b[49m\n\u001b[1;32m   5403\u001b[0m \u001b[43m        \u001b[49m\u001b[43mcolumns\u001b[49m\u001b[38;5;241;43m=\u001b[39;49m\u001b[43mcolumns\u001b[49m\u001b[43m,\u001b[49m\n\u001b[1;32m   5404\u001b[0m \u001b[43m        \u001b[49m\u001b[43mlevel\u001b[49m\u001b[38;5;241;43m=\u001b[39;49m\u001b[43mlevel\u001b[49m\u001b[43m,\u001b[49m\n\u001b[1;32m   5405\u001b[0m \u001b[43m        \u001b[49m\u001b[43minplace\u001b[49m\u001b[38;5;241;43m=\u001b[39;49m\u001b[43minplace\u001b[49m\u001b[43m,\u001b[49m\n\u001b[1;32m   5406\u001b[0m \u001b[43m        \u001b[49m\u001b[43merrors\u001b[49m\u001b[38;5;241;43m=\u001b[39;49m\u001b[43merrors\u001b[49m\u001b[43m,\u001b[49m\n\u001b[1;32m   5407\u001b[0m \u001b[43m    \u001b[49m\u001b[43m)\u001b[49m\n",
      "File \u001b[0;32m~/miniconda3/envs/py4sa/lib/python3.10/site-packages/pandas/util/_decorators.py:331\u001b[0m, in \u001b[0;36mdeprecate_nonkeyword_arguments.<locals>.decorate.<locals>.wrapper\u001b[0;34m(*args, **kwargs)\u001b[0m\n\u001b[1;32m    325\u001b[0m \u001b[38;5;28;01mif\u001b[39;00m \u001b[38;5;28mlen\u001b[39m(args) \u001b[38;5;241m>\u001b[39m num_allow_args:\n\u001b[1;32m    326\u001b[0m     warnings\u001b[38;5;241m.\u001b[39mwarn(\n\u001b[1;32m    327\u001b[0m         msg\u001b[38;5;241m.\u001b[39mformat(arguments\u001b[38;5;241m=\u001b[39m_format_argument_list(allow_args)),\n\u001b[1;32m    328\u001b[0m         \u001b[38;5;167;01mFutureWarning\u001b[39;00m,\n\u001b[1;32m    329\u001b[0m         stacklevel\u001b[38;5;241m=\u001b[39mfind_stack_level(),\n\u001b[1;32m    330\u001b[0m     )\n\u001b[0;32m--> 331\u001b[0m \u001b[38;5;28;01mreturn\u001b[39;00m \u001b[43mfunc\u001b[49m\u001b[43m(\u001b[49m\u001b[38;5;241;43m*\u001b[39;49m\u001b[43margs\u001b[49m\u001b[43m,\u001b[49m\u001b[43m \u001b[49m\u001b[38;5;241;43m*\u001b[39;49m\u001b[38;5;241;43m*\u001b[39;49m\u001b[43mkwargs\u001b[49m\u001b[43m)\u001b[49m\n",
      "File \u001b[0;32m~/miniconda3/envs/py4sa/lib/python3.10/site-packages/pandas/core/generic.py:4505\u001b[0m, in \u001b[0;36mNDFrame.drop\u001b[0;34m(self, labels, axis, index, columns, level, inplace, errors)\u001b[0m\n\u001b[1;32m   4503\u001b[0m \u001b[38;5;28;01mfor\u001b[39;00m axis, labels \u001b[38;5;129;01min\u001b[39;00m axes\u001b[38;5;241m.\u001b[39mitems():\n\u001b[1;32m   4504\u001b[0m     \u001b[38;5;28;01mif\u001b[39;00m labels \u001b[38;5;129;01mis\u001b[39;00m \u001b[38;5;129;01mnot\u001b[39;00m \u001b[38;5;28;01mNone\u001b[39;00m:\n\u001b[0;32m-> 4505\u001b[0m         obj \u001b[38;5;241m=\u001b[39m \u001b[43mobj\u001b[49m\u001b[38;5;241;43m.\u001b[39;49m\u001b[43m_drop_axis\u001b[49m\u001b[43m(\u001b[49m\u001b[43mlabels\u001b[49m\u001b[43m,\u001b[49m\u001b[43m \u001b[49m\u001b[43maxis\u001b[49m\u001b[43m,\u001b[49m\u001b[43m \u001b[49m\u001b[43mlevel\u001b[49m\u001b[38;5;241;43m=\u001b[39;49m\u001b[43mlevel\u001b[49m\u001b[43m,\u001b[49m\u001b[43m \u001b[49m\u001b[43merrors\u001b[49m\u001b[38;5;241;43m=\u001b[39;49m\u001b[43merrors\u001b[49m\u001b[43m)\u001b[49m\n\u001b[1;32m   4507\u001b[0m \u001b[38;5;28;01mif\u001b[39;00m inplace:\n\u001b[1;32m   4508\u001b[0m     \u001b[38;5;28mself\u001b[39m\u001b[38;5;241m.\u001b[39m_update_inplace(obj)\n",
      "File \u001b[0;32m~/miniconda3/envs/py4sa/lib/python3.10/site-packages/pandas/core/generic.py:4546\u001b[0m, in \u001b[0;36mNDFrame._drop_axis\u001b[0;34m(self, labels, axis, level, errors, only_slice)\u001b[0m\n\u001b[1;32m   4544\u001b[0m         new_axis \u001b[38;5;241m=\u001b[39m axis\u001b[38;5;241m.\u001b[39mdrop(labels, level\u001b[38;5;241m=\u001b[39mlevel, errors\u001b[38;5;241m=\u001b[39merrors)\n\u001b[1;32m   4545\u001b[0m     \u001b[38;5;28;01melse\u001b[39;00m:\n\u001b[0;32m-> 4546\u001b[0m         new_axis \u001b[38;5;241m=\u001b[39m \u001b[43maxis\u001b[49m\u001b[38;5;241;43m.\u001b[39;49m\u001b[43mdrop\u001b[49m\u001b[43m(\u001b[49m\u001b[43mlabels\u001b[49m\u001b[43m,\u001b[49m\u001b[43m \u001b[49m\u001b[43merrors\u001b[49m\u001b[38;5;241;43m=\u001b[39;49m\u001b[43merrors\u001b[49m\u001b[43m)\u001b[49m\n\u001b[1;32m   4547\u001b[0m     indexer \u001b[38;5;241m=\u001b[39m axis\u001b[38;5;241m.\u001b[39mget_indexer(new_axis)\n\u001b[1;32m   4549\u001b[0m \u001b[38;5;66;03m# Case for non-unique axis\u001b[39;00m\n\u001b[1;32m   4550\u001b[0m \u001b[38;5;28;01melse\u001b[39;00m:\n",
      "File \u001b[0;32m~/miniconda3/envs/py4sa/lib/python3.10/site-packages/pandas/core/indexes/base.py:6934\u001b[0m, in \u001b[0;36mIndex.drop\u001b[0;34m(self, labels, errors)\u001b[0m\n\u001b[1;32m   6932\u001b[0m \u001b[38;5;28;01mif\u001b[39;00m mask\u001b[38;5;241m.\u001b[39many():\n\u001b[1;32m   6933\u001b[0m     \u001b[38;5;28;01mif\u001b[39;00m errors \u001b[38;5;241m!=\u001b[39m \u001b[38;5;124m\"\u001b[39m\u001b[38;5;124mignore\u001b[39m\u001b[38;5;124m\"\u001b[39m:\n\u001b[0;32m-> 6934\u001b[0m         \u001b[38;5;28;01mraise\u001b[39;00m \u001b[38;5;167;01mKeyError\u001b[39;00m(\u001b[38;5;124mf\u001b[39m\u001b[38;5;124m\"\u001b[39m\u001b[38;5;132;01m{\u001b[39;00m\u001b[38;5;28mlist\u001b[39m(labels[mask])\u001b[38;5;132;01m}\u001b[39;00m\u001b[38;5;124m not found in axis\u001b[39m\u001b[38;5;124m\"\u001b[39m)\n\u001b[1;32m   6935\u001b[0m     indexer \u001b[38;5;241m=\u001b[39m indexer[\u001b[38;5;241m~\u001b[39mmask]\n\u001b[1;32m   6936\u001b[0m \u001b[38;5;28;01mreturn\u001b[39;00m \u001b[38;5;28mself\u001b[39m\u001b[38;5;241m.\u001b[39mdelete(indexer)\n",
      "\u001b[0;31mKeyError\u001b[0m: \"['pop'] not found in axis\""
     ]
    }
   ],
   "source": [
    "#reomoving the original \"pop\" column\n",
    "\n",
    "wc = wc.drop('pop', axis=0)\n",
    "wc.head"
   ]
  },
  {
   "cell_type": "code",
   "execution_count": null,
   "id": "ec3c1654-afb3-47fd-ba5f-624aaaeb63c2",
   "metadata": {},
   "outputs": [],
   "source": []
  }
 ],
 "metadata": {
  "kernelspec": {
   "display_name": "Python 3 (ipykernel)",
   "language": "python",
   "name": "python3"
  },
  "language_info": {
   "codemirror_mode": {
    "name": "ipython",
    "version": 3
   },
   "file_extension": ".py",
   "mimetype": "text/x-python",
   "name": "python",
   "nbconvert_exporter": "python",
   "pygments_lexer": "ipython3",
   "version": "3.10.9"
  }
 },
 "nbformat": 4,
 "nbformat_minor": 5
}
