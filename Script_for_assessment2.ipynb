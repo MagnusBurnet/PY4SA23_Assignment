{
 "cells": [
  {
   "cell_type": "markdown",
   "id": "b2ab2db3-2611-473b-882f-4dc1728c7b13",
   "metadata": {},
   "source": [
    "# GG3209 Assignment 2 - Magnus Burnet\n",
    "### Student ID: 190011602\n",
    "### GITHub Repository: https://github.com/MagnusBurnet/PY4SA23_Assignment"
   ]
  },
  {
   "cell_type": "markdown",
   "id": "d1f6edc4-e3fe-4cc6-bca0-9e6119b11455",
   "metadata": {},
   "source": [
    "#### Task 1: Create an If...Else statement that will test whether a number is divisible by three. \"YOUR VALUE is divisible by 3\" should be printed if the value is divisible by three. \"YOUR VALUE is not divisible by three\" should be printed if it is not divisible by three. Test the statement on a numeric variable. Upper case text in the print statement should be replaced with the tested number."
   ]
  },
  {
   "cell_type": "code",
   "execution_count": 10,
   "id": "50d1747f-6343-42ec-849d-e7a1cf7081a4",
   "metadata": {},
   "outputs": [
    {
     "name": "stdin",
     "output_type": "stream",
     "text": [
      "Enter the number you want to check is divisible by 3:  45678\n"
     ]
    },
    {
     "name": "stdout",
     "output_type": "stream",
     "text": [
      "45678 is divisible by three\n"
     ]
    }
   ],
   "source": [
    "num = int(input(\"Enter the number you want to check is divisible by 3: \"))\n",
    "\n",
    "if num%3 == 0:\n",
    "    print(num,\"is divisible by three\")\n",
    "    \n",
    "else:\n",
    "    print(num,\"is not divisible by three\")"
   ]
  },
  {
   "cell_type": "markdown",
   "id": "3c530099-bb0c-4903-8176-785ed1365b63",
   "metadata": {},
   "source": [
    "#### T2: Create an If...Else statement that will test whether a type of fruit, represented as a text string, is in a list of acceptable fruits (apple, orange, pear, kiwi, or strawberry). If the fruit is on the list, the following should be printed: \"YOUR FRUIT is acceptable.\" If not, then the following should be printed: \"YOUR FRUIT is not acceptable.\" Upper case text in the print statement should be replaced with the tested fruit."
   ]
  },
  {
   "cell_type": "code",
   "execution_count": 23,
   "id": "4813e52b-2bf8-48c3-9b23-7765fb559273",
   "metadata": {},
   "outputs": [
    {
     "name": "stdin",
     "output_type": "stream",
     "text": [
      "Enter the fruit you want to check:  tangerine\n"
     ]
    },
    {
     "name": "stdout",
     "output_type": "stream",
     "text": [
      "tangerine is not accepable\n"
     ]
    }
   ],
   "source": [
    "fruitlist = [\"apple\", \"orange\", \"pear\", \"kiwi\", \"strawberry\"]\n",
    "\n",
    "fruit = str(input(\"Enter the fruit you want to check: \"))\n",
    "\n",
    "if fruit in fruitlist:\n",
    "            print(fruit, \"is acceptable\")\n",
    "\n",
    "else:\n",
    "            print(fruit, \"is not accepable\")\n"
   ]
  },
  {
   "cell_type": "markdown",
   "id": "e0eb5d8f-effa-4ba9-8397-6554c967526b",
   "metadata": {},
   "source": [
    "#### T3: Create a function to calculate the distance between two coordinates using the haversine formula. Write the following formula where the input parameters are a pair of coordinates as two lists."
   ]
  },
  {
   "cell_type": "code",
   "execution_count": 5,
   "id": "3a6fcbd2-85c3-4ad8-a1a9-3cbc6e3862d8",
   "metadata": {},
   "outputs": [
    {
     "name": "stdin",
     "output_type": "stream",
     "text": [
      "Enter the latitude and longitude of the first location, separated by a comma:  100, 100\n",
      "Enter the latitude and longitude of the second location, separated by a comma:  100, 100\n"
     ]
    },
    {
     "name": "stdout",
     "output_type": "stream",
     "text": [
      "The distance between your coordinates is:  0.0 km\n"
     ]
    }
   ],
   "source": [
    "import numpy as np\n",
    "\n",
    "from math import *\n",
    "\n",
    "\n",
    "#Input for coordinate1\n",
    "coordinate1 = [float(x) for x in input(\"Enter the latitude and longitude of the first location, separated by a comma: \").split(\",\")]\n",
    "lat1, long1 = coordinate1[0], coordinate1[1]\n",
    "\n",
    "\n",
    "#Input for coordinate2\n",
    "coordinate2 = [float(x) for x in input(\"Enter the latitude and longitude of the second location, separated by a comma: \").split(\",\")]\n",
    "lat2, long2 = coordinate2[0], coordinate2[1]\n",
    "\n",
    "\n",
    "#convert to radians\n",
    "lat1, long1, lat2, long2 = np.radians([lat1, long1, lat2, long2])\n",
    "\n",
    "#haversine formula\n",
    "a = sin((lat2-lat1)/2)**2 + cos(lat1) * cos(lat2) * sin((long2-long1)/2)**2\n",
    "c = 2 * atan2(sqrt(a), sqrt(1-a))\n",
    "d = 6371 * c\n",
    "\n",
    "print(\"The distance between your coordinates is:\", d,\"km\")\n"
   ]
  },
  {
   "cell_type": "code",
   "execution_count": 35,
   "id": "e963253e-4ae1-4157-ba68-09c830b368cf",
   "metadata": {},
   "outputs": [],
   "source": [
    "import numpy as np\n",
    "import pandas as pd\n",
    "import matplotlib.pyplot as plt\n",
    "%matplotlib inline\n",
    "plt.rcParams['figure.figsize'] = [10, 8]\n",
    "\n",
    "ppt = pd.read_csv(\"portland_park_trees.csv\", header=0)\n",
    "ppt.columns =[column.replace(\" \", \"_\") for column in ppt.columns]\n",
    "\n",
    "ppt.set_index('OBJECTID', inplace=True)\n",
    "\n",
    "ppt.to_csv(\"modified_portland_park_trees.csv\")\n",
    "\n",
    "ppt = pd.read_csv(\"modified_portland_park_trees.csv\", index_col='OBJECTID')\n"
   ]
  },
  {
   "cell_type": "markdown",
   "id": "17083cdb-e1b7-4d88-bc60-3f1f17666bac",
   "metadata": {},
   "source": [
    "### Numpy and Panda \n",
    "#### Question 1: How many trees are of the Quercus or Acer genus?"
   ]
  },
  {
   "cell_type": "code",
   "execution_count": 36,
   "id": "8f446c5d-f677-403b-94ec-ada63710587c",
   "metadata": {},
   "outputs": [
    {
     "name": "stdout",
     "output_type": "stream",
     "text": [
      "There are 3586 trees with the Acer Genus and 2089 trees with the Quercus genus\n"
     ]
    }
   ],
   "source": [
    "import numpy as np\n",
    "\n",
    "Acer = 'Acer'\n",
    "mask = ppt.values == Acer\n",
    "Acer_count = np.count_nonzero(mask)\n",
    "\n",
    "Quercus = 'Quercus'\n",
    "mask = ppt.values == Quercus\n",
    "Quercus_count = np.count_nonzero(mask)\n",
    "\n",
    "print(\"There are\",Acer_count, \"trees with the Acer Genus and\",Quercus_count, \"trees with the Quercus genus\")"
   ]
  },
  {
   "cell_type": "markdown",
   "id": "1ea2b35e-e1a8-4f23-8248-88811ab65621",
   "metadata": {},
   "source": [
    "#### Q2: How many trees are of the Quercus or Acer genus and have a DBH larger than 50 inches?"
   ]
  },
  {
   "cell_type": "code",
   "execution_count": null,
   "id": "e4aff9a6-9cca-4d95-85ae-ef59bd8ed714",
   "metadata": {},
   "outputs": [],
   "source": [
    "Genus_list = ['Quercus', 'Acer']\n",
    "df = ppt.loc[ppt['Genus'].isin(DBH_list), :]"
   ]
  },
  {
   "cell_type": "markdown",
   "id": "a0c5ba44-9e09-435a-b44a-5620bd475428",
   "metadata": {},
   "source": [
    "#### Q3: Which genus has the highest mean DBH of the following genera: Quercus, Acer, or Fraxinus?"
   ]
  },
  {
   "cell_type": "code",
   "execution_count": 65,
   "id": "8c670631-62e0-4d02-acab-ebbdf2ced4a0",
   "metadata": {},
   "outputs": [
    {
     "name": "stdout",
     "output_type": "stream",
     "text": [
      "The genus with the highest mean DBH is Quercus\n"
     ]
    }
   ],
   "source": [
    "\n",
    "DBH_list = ['Quercus', 'Acer', 'Fraxinus']\n",
    "\n",
    "df = ppt.loc[ppt['Genus'].isin(DBH_list), :]\n",
    "\n",
    "genus_means = df.groupby('Genus')['DBH'].mean()\n",
    "\n",
    "highest_mean = genus_means.idxmax()\n",
    "\n",
    "print(\"The genus with the highest mean DBH is\", highest_mean)\n"
   ]
  },
  {
   "cell_type": "code",
   "execution_count": 56,
   "id": "9367934d-669c-4d62-9c76-ea4ba83534d1",
   "metadata": {},
   "outputs": [
    {
     "name": "stdout",
     "output_type": "stream",
     "text": [
      "The mean DBH for Quercus is: 23.56823839157492\n"
     ]
    }
   ],
   "source": []
  },
  {
   "cell_type": "code",
   "execution_count": null,
   "id": "0213669d-e2b3-4616-a279-48cc2223a1a3",
   "metadata": {},
   "outputs": [],
   "source": []
  }
 ],
 "metadata": {
  "kernelspec": {
   "display_name": "Python 3 (ipykernel)",
   "language": "python",
   "name": "python3"
  },
  "language_info": {
   "codemirror_mode": {
    "name": "ipython",
    "version": 3
   },
   "file_extension": ".py",
   "mimetype": "text/x-python",
   "name": "python",
   "nbconvert_exporter": "python",
   "pygments_lexer": "ipython3",
   "version": "3.10.9"
  }
 },
 "nbformat": 4,
 "nbformat_minor": 5
}
