{
 "cells": [
  {
   "cell_type": "markdown",
   "id": "b2ab2db3-2611-473b-882f-4dc1728c7b13",
   "metadata": {},
   "source": [
    "# GG3209 Assignment 2 - Magnus Burnet\n",
    "### Student ID: 190011602\n",
    "### GITHub Repository: https://github.com/MagnusBurnet/PY4SA23_Assignment"
   ]
  },
  {
   "cell_type": "markdown",
   "id": "d1f6edc4-e3fe-4cc6-bca0-9e6119b11455",
   "metadata": {},
   "source": [
    "#### Task 1: Create an If...Else statement that will test whether a number is divisible by three. \"YOUR VALUE is divisible by 3\" should be printed if the value is divisible by three. \"YOUR VALUE is not divisible by three\" should be printed if it is not divisible by three. Test the statement on a numeric variable. Upper case text in the print statement should be replaced with the tested number."
   ]
  },
  {
   "cell_type": "code",
   "execution_count": 10,
   "id": "50d1747f-6343-42ec-849d-e7a1cf7081a4",
   "metadata": {},
   "outputs": [
    {
     "name": "stdin",
     "output_type": "stream",
     "text": [
      "Enter the number you want to check is divisible by 3:  45678\n"
     ]
    },
    {
     "name": "stdout",
     "output_type": "stream",
     "text": [
      "45678 is divisible by three\n"
     ]
    }
   ],
   "source": [
    "num = int(input(\"Enter the number you want to check is divisible by 3: \"))\n",
    "\n",
    "if num%3 == 0:\n",
    "    print(num,\"is divisible by three\")\n",
    "    \n",
    "else:\n",
    "    print(num,\"is not divisible by three\")"
   ]
  },
  {
   "cell_type": "markdown",
   "id": "3c530099-bb0c-4903-8176-785ed1365b63",
   "metadata": {},
   "source": [
    "#### T2: Create an If...Else statement that will test whether a type of fruit, represented as a text string, is in a list of acceptable fruits (apple, orange, pear, kiwi, or strawberry). If the fruit is on the list, the following should be printed: \"YOUR FRUIT is acceptable.\" If not, then the following should be printed: \"YOUR FRUIT is not acceptable.\" Upper case text in the print statement should be replaced with the tested fruit."
   ]
  },
  {
   "cell_type": "code",
   "execution_count": 18,
   "id": "4813e52b-2bf8-48c3-9b23-7765fb559273",
   "metadata": {},
   "outputs": [
    {
     "name": "stdin",
     "output_type": "stream",
     "text": [
      "Enter the fruit you want to check:  orange\n"
     ]
    },
    {
     "name": "stdout",
     "output_type": "stream",
     "text": [
      "orange is acceptable\n"
     ]
    }
   ],
   "source": [
    "fruitlist = [\"apple\", \"orange\", \"pear\", \"kiwi\", \"strawberry\"]\n",
    "\n",
    "fruit = str(input(\"Enter the fruit you want to check: \"))\n",
    "\n",
    "if fruit in fruitlist:\n",
    "            print(fruit, \"is acceptable\")\n",
    "\n",
    "else:\n",
    "            print(fruit, \"is not accepable\")\n"
   ]
  },
  {
   "cell_type": "markdown",
   "id": "e0eb5d8f-effa-4ba9-8397-6554c967526b",
   "metadata": {},
   "source": [
    "#### T3: Create a function to calculate the distance between two coordinates using the haversine formula. Write the following formula where the input parameters are a pair of coordinates as two lists."
   ]
  },
  {
   "cell_type": "code",
   "execution_count": 21,
   "id": "3a6fcbd2-85c3-4ad8-a1a9-3cbc6e3862d8",
   "metadata": {},
   "outputs": [
    {
     "name": "stdin",
     "output_type": "stream",
     "text": [
      "Please enter the x value of your first coordinate:  12\n",
      "Please enter the y value of your first coordinate:  15\n"
     ]
    },
    {
     "name": "stdout",
     "output_type": "stream",
     "text": [
      "[12, 15]\n"
     ]
    }
   ],
   "source": [
    "Coordinate1 = []\n",
    "Coordinate2 = []\n",
    "\n",
    "#Input for coordinate1\n",
    "Coord1x = int(input(\"Please enter the x value of your first coordinate: \"))\n",
    "Coord1y = int(input(\"Please enter the y value of your first coordinate: \"))\n",
    "\n",
    "Coordinate1[1:2] = [Coord1x, Coord1y]\n",
    "\n",
    "#Input for coordinate2\n",
    "Coord2x = int(input(\"Please enter the x value of your second coordinate: \"))\n",
    "Coord2y = int(input(\"Please enter the y value of your second coordinate: \"))\n",
    "\n",
    "Coordinate2[1:2] = [Coord2x, Coord2y]\n",
    "\n",
    "#haversine formula\n"
   ]
  },
  {
   "cell_type": "code",
   "execution_count": null,
   "id": "f8dfe10a-966d-4374-b9ac-9acfeda2c1c9",
   "metadata": {},
   "outputs": [],
   "source": []
  }
 ],
 "metadata": {
  "kernelspec": {
   "display_name": "Python 3 (ipykernel)",
   "language": "python",
   "name": "python3"
  },
  "language_info": {
   "codemirror_mode": {
    "name": "ipython",
    "version": 3
   },
   "file_extension": ".py",
   "mimetype": "text/x-python",
   "name": "python",
   "nbconvert_exporter": "python",
   "pygments_lexer": "ipython3",
   "version": "3.10.9"
  }
 },
 "nbformat": 4,
 "nbformat_minor": 5
}
